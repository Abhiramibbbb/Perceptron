{
 "cells": [
  {
   "cell_type": "code",
   "execution_count": 9,
   "id": "77e57388-ce9b-4c1a-9b12-678a46ca820b",
   "metadata": {},
   "outputs": [
    {
     "name": "stdin",
     "output_type": "stream",
     "text": [
      "Enter a number (-1 or 1):  1\n",
      "Enter a number (-1 or 1):  1\n"
     ]
    },
    {
     "name": "stdout",
     "output_type": "stream",
     "text": [
      "Iteration 1\n",
      "w1: 0.3, w2: 0.8\n",
      "bias value: 0.32\n",
      "Expected output: 1, Actual output: -1\n",
      "\n",
      "Iteration 2\n",
      "w1: 4.3, w2: 4.8\n",
      "bias value: 4.32\n",
      "Expected output: 1, Actual output: 1\n",
      "\n",
      "Final Output\n",
      "Expected output: 1, Actual output: 1\n",
      "weight values: 4.3, 4.8\n",
      "bias value: 4.32\n"
     ]
    }
   ],
   "source": [
    "#21003\n",
    "class NeuralNetwork:\n",
    "    def __init__(self, w1, w2, t, b):\n",
    "        self.w1 = w1\n",
    "        self.w2 = w2\n",
    "        self.t = t\n",
    "        self.b = b\n",
    "        self.i = 1\n",
    "\n",
    "    def fun(self, x1, x2, op):\n",
    "        print(\"Iteration\", self.i)\n",
    "        print(f'w1: {self.w1}, w2: {self.w2}')\n",
    "        print(f'bias value: {self.b}')\n",
    "        \n",
    "        # Compute the output\n",
    "        z = x1 * self.w1 + x2 * self.w2 + self.b\n",
    "        p = 1 if z >= self.t else -1\n",
    "        print(f'Expected output: {op}, Actual output: {p}\\n')\n",
    "\n",
    "        # Update weights and bias if needed\n",
    "        if p != op:\n",
    "            e = op - p\n",
    "            self.w1 += self.t * e * x1\n",
    "            self.w2 += self.t * e * x2\n",
    "            self.b += self.t * e\n",
    "            self.i += 1\n",
    "            self.fun(x1, x2, op)\n",
    "        else:\n",
    "            print('Final Output')\n",
    "            print(f'Expected output: {op}, Actual output: {p}')\n",
    "            print(f'weight values: {self.w1}, {self.w2}')\n",
    "            print(f'bias value: {self.b}')\n",
    "\n",
    "# Initialize threshold and weights\n",
    "threshold = 2\n",
    "initial_w1 = 0.3\n",
    "initial_w2 = 0.8\n",
    "bias = 0.32\n",
    "\n",
    "# Create an instance of the class\n",
    "nn = NeuralNetwork(initial_w1, initial_w2, threshold, bias)\n",
    "\n",
    "# Inputs\n",
    "x1 = int(input(\"Enter a number (-1 or 1): \"))\n",
    "x2 = int(input(\"Enter a number (-1 or 1): \"))\n",
    "\n",
    "# AND logic output\n",
    "output = 1 if x1 == 1 and x2 == 1 else -1\n",
    "\n",
    "# Call the class method\n",
    "nn.fun(x1, x2, output)\n"
   ]
  },
  {
   "cell_type": "code",
   "execution_count": null,
   "id": "08d6ac4e-8eb0-408c-95cc-fea0e80b34a6",
   "metadata": {},
   "outputs": [],
   "source": []
  }
 ],
 "metadata": {
  "kernelspec": {
   "display_name": "Python 3 (ipykernel)",
   "language": "python",
   "name": "python3"
  },
  "language_info": {
   "codemirror_mode": {
    "name": "ipython",
    "version": 3
   },
   "file_extension": ".py",
   "mimetype": "text/x-python",
   "name": "python",
   "nbconvert_exporter": "python",
   "pygments_lexer": "ipython3",
   "version": "3.9.7"
  }
 },
 "nbformat": 4,
 "nbformat_minor": 5
}
